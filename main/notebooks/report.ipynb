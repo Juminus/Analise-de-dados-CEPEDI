{
 "cells": [
  {
   "cell_type": "markdown",
   "metadata": {},
   "source": [
    "### Relatório final\n",
    "Primeiro realizamos individualmente análises do arquivo CSV, calculando principalmente as médias das informações.\n",
    "Após os cálculos, montamos gráficos para a análise ficar visualmente mais agradável.\n",
    "Selecionamos as informações mais relevantes dos projetos individuais em um único arquivo(model.ipynb)."
   ]
  }
 ],
 "metadata": {
  "kernelspec": {
   "display_name": "Python 3.10.6 64-bit",
   "language": "python",
   "name": "python3"
  },
  "language_info": {
   "name": "python",
   "version": "3.10.6"
  },
  "orig_nbformat": 4,
  "vscode": {
   "interpreter": {
    "hash": "9bd63d4d0e53dd854605697514204d0a3a6bfb81f118d4d4374019a86f3401eb"
   }
  }
 },
 "nbformat": 4,
 "nbformat_minor": 2
}
