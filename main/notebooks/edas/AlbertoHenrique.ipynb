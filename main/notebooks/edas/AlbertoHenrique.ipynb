{
  "cells": [
    {
      "cell_type": "code",
      "execution_count": 43,
      "metadata": {
        "id": "iJFoYs6TLNyj"
      },
      "outputs": [],
      "source": [
        "import pandas as pd\n",
        "import matplotlib.pyplot as plt\n",
        "import numpy as np\n"
      ]
    },
    {
      "cell_type": "code",
      "execution_count": 44,
      "metadata": {
        "id": "Z_-2FV49LNyy",
        "colab": {
          "base_uri": "https://localhost:8080/",
          "height": 614
        },
        "outputId": "f998d6ae-ad31-469b-987e-13044ed51953"
      },
      "outputs": [
        {
          "output_type": "execute_result",
          "data": {
            "text/plain": [
              "   Season  No. of Episode (Season)  No. of Episode (Overall)  \\\n",
              "0       1                        1                         1   \n",
              "1       1                        2                         2   \n",
              "2       1                        3                         3   \n",
              "3       1                        4                         4   \n",
              "4       1                        5                         5   \n",
              "\n",
              "                    Title of the Episode  Running Time (Minutes)  \\\n",
              "0                       Winter Is Coming                      61   \n",
              "1                          The Kingsroad                      55   \n",
              "2                              Lord Snow                      57   \n",
              "3  Cripples, Bastards, and Broken Things                      55   \n",
              "4                  The Wolf and the Lion                      54   \n",
              "\n",
              "      Directed by                  Written by Original Air Date  \\\n",
              "0  Tim Van Patten  David Benioff, D. B. Weiss       17-Apr-2011   \n",
              "1  Tim Van Patten  David Benioff, D. B. Weiss       24-Apr-2011   \n",
              "2      Brian Kirk  David Benioff, D. B. Weiss        1-May-2011   \n",
              "3      Brian Kirk                Bryan Cogman        8-May-2011   \n",
              "4      Brian Kirk  David Benioff, D. B. Weiss       15-May-2011   \n",
              "\n",
              "   U.S. Viewers (Millions)       Music by Cinematography by  \\\n",
              "0                     2.22  Ramin Djawadi     Alik Sakharov   \n",
              "1                     2.20  Ramin Djawadi     Alik Sakharov   \n",
              "2                     2.44  Ramin Djawadi  Marco Pontecorvo   \n",
              "3                     2.45  Ramin Djawadi  Marco Pontecorvo   \n",
              "4                     2.58  Ramin Djawadi  Marco Pontecorvo   \n",
              "\n",
              "          Editing by  IMDb Rating  Rotten Tomatoes Rating (Percentage)  \\\n",
              "0  Oral Norrie Ottey          8.9                                  100   \n",
              "1  Oral Norrie Ottey          8.6                                  100   \n",
              "2     Frances Parker          8.5                                   81   \n",
              "3     Frances Parker          8.6                                  100   \n",
              "4     Frances Parker          9.0                                   95   \n",
              "\n",
              "   Metacritic Ratings        Ordered     Filming Duration   Novel(s) Adapted  \\\n",
              "0                 9.1  March 2, 2010  Second half of 2010  A Game of Thrones   \n",
              "1                 8.9  March 2, 2010  Second half of 2010  A Game of Thrones   \n",
              "2                 8.7  March 2, 2010  Second half of 2010  A Game of Thrones   \n",
              "3                 9.1  March 2, 2010  Second half of 2010  A Game of Thrones   \n",
              "4                 9.0  March 2, 2010  Second half of 2010  A Game of Thrones   \n",
              "\n",
              "                                            Synopsis  \n",
              "0  North of the Seven Kingdoms of Westeros, Night...  \n",
              "1  Ned, the new Hand of the King, travels to King...  \n",
              "2  Ned attends the King's Small Council and learn...  \n",
              "3  While returning to King's Landing, Tyrion stop...  \n",
              "4  King Robert's eunuch spy, Varys, has uncovered...  "
            ],
            "text/html": [
              "\n",
              "  <div id=\"df-62853278-ee2c-48c0-9c89-ee54dc3d4af0\">\n",
              "    <div class=\"colab-df-container\">\n",
              "      <div>\n",
              "<style scoped>\n",
              "    .dataframe tbody tr th:only-of-type {\n",
              "        vertical-align: middle;\n",
              "    }\n",
              "\n",
              "    .dataframe tbody tr th {\n",
              "        vertical-align: top;\n",
              "    }\n",
              "\n",
              "    .dataframe thead th {\n",
              "        text-align: right;\n",
              "    }\n",
              "</style>\n",
              "<table border=\"1\" class=\"dataframe\">\n",
              "  <thead>\n",
              "    <tr style=\"text-align: right;\">\n",
              "      <th></th>\n",
              "      <th>Season</th>\n",
              "      <th>No. of Episode (Season)</th>\n",
              "      <th>No. of Episode (Overall)</th>\n",
              "      <th>Title of the Episode</th>\n",
              "      <th>Running Time (Minutes)</th>\n",
              "      <th>Directed by</th>\n",
              "      <th>Written by</th>\n",
              "      <th>Original Air Date</th>\n",
              "      <th>U.S. Viewers (Millions)</th>\n",
              "      <th>Music by</th>\n",
              "      <th>Cinematography by</th>\n",
              "      <th>Editing by</th>\n",
              "      <th>IMDb Rating</th>\n",
              "      <th>Rotten Tomatoes Rating (Percentage)</th>\n",
              "      <th>Metacritic Ratings</th>\n",
              "      <th>Ordered</th>\n",
              "      <th>Filming Duration</th>\n",
              "      <th>Novel(s) Adapted</th>\n",
              "      <th>Synopsis</th>\n",
              "    </tr>\n",
              "  </thead>\n",
              "  <tbody>\n",
              "    <tr>\n",
              "      <th>0</th>\n",
              "      <td>1</td>\n",
              "      <td>1</td>\n",
              "      <td>1</td>\n",
              "      <td>Winter Is Coming</td>\n",
              "      <td>61</td>\n",
              "      <td>Tim Van Patten</td>\n",
              "      <td>David Benioff, D. B. Weiss</td>\n",
              "      <td>17-Apr-2011</td>\n",
              "      <td>2.22</td>\n",
              "      <td>Ramin Djawadi</td>\n",
              "      <td>Alik Sakharov</td>\n",
              "      <td>Oral Norrie Ottey</td>\n",
              "      <td>8.9</td>\n",
              "      <td>100</td>\n",
              "      <td>9.1</td>\n",
              "      <td>March 2, 2010</td>\n",
              "      <td>Second half of 2010</td>\n",
              "      <td>A Game of Thrones</td>\n",
              "      <td>North of the Seven Kingdoms of Westeros, Night...</td>\n",
              "    </tr>\n",
              "    <tr>\n",
              "      <th>1</th>\n",
              "      <td>1</td>\n",
              "      <td>2</td>\n",
              "      <td>2</td>\n",
              "      <td>The Kingsroad</td>\n",
              "      <td>55</td>\n",
              "      <td>Tim Van Patten</td>\n",
              "      <td>David Benioff, D. B. Weiss</td>\n",
              "      <td>24-Apr-2011</td>\n",
              "      <td>2.20</td>\n",
              "      <td>Ramin Djawadi</td>\n",
              "      <td>Alik Sakharov</td>\n",
              "      <td>Oral Norrie Ottey</td>\n",
              "      <td>8.6</td>\n",
              "      <td>100</td>\n",
              "      <td>8.9</td>\n",
              "      <td>March 2, 2010</td>\n",
              "      <td>Second half of 2010</td>\n",
              "      <td>A Game of Thrones</td>\n",
              "      <td>Ned, the new Hand of the King, travels to King...</td>\n",
              "    </tr>\n",
              "    <tr>\n",
              "      <th>2</th>\n",
              "      <td>1</td>\n",
              "      <td>3</td>\n",
              "      <td>3</td>\n",
              "      <td>Lord Snow</td>\n",
              "      <td>57</td>\n",
              "      <td>Brian Kirk</td>\n",
              "      <td>David Benioff, D. B. Weiss</td>\n",
              "      <td>1-May-2011</td>\n",
              "      <td>2.44</td>\n",
              "      <td>Ramin Djawadi</td>\n",
              "      <td>Marco Pontecorvo</td>\n",
              "      <td>Frances Parker</td>\n",
              "      <td>8.5</td>\n",
              "      <td>81</td>\n",
              "      <td>8.7</td>\n",
              "      <td>March 2, 2010</td>\n",
              "      <td>Second half of 2010</td>\n",
              "      <td>A Game of Thrones</td>\n",
              "      <td>Ned attends the King's Small Council and learn...</td>\n",
              "    </tr>\n",
              "    <tr>\n",
              "      <th>3</th>\n",
              "      <td>1</td>\n",
              "      <td>4</td>\n",
              "      <td>4</td>\n",
              "      <td>Cripples, Bastards, and Broken Things</td>\n",
              "      <td>55</td>\n",
              "      <td>Brian Kirk</td>\n",
              "      <td>Bryan Cogman</td>\n",
              "      <td>8-May-2011</td>\n",
              "      <td>2.45</td>\n",
              "      <td>Ramin Djawadi</td>\n",
              "      <td>Marco Pontecorvo</td>\n",
              "      <td>Frances Parker</td>\n",
              "      <td>8.6</td>\n",
              "      <td>100</td>\n",
              "      <td>9.1</td>\n",
              "      <td>March 2, 2010</td>\n",
              "      <td>Second half of 2010</td>\n",
              "      <td>A Game of Thrones</td>\n",
              "      <td>While returning to King's Landing, Tyrion stop...</td>\n",
              "    </tr>\n",
              "    <tr>\n",
              "      <th>4</th>\n",
              "      <td>1</td>\n",
              "      <td>5</td>\n",
              "      <td>5</td>\n",
              "      <td>The Wolf and the Lion</td>\n",
              "      <td>54</td>\n",
              "      <td>Brian Kirk</td>\n",
              "      <td>David Benioff, D. B. Weiss</td>\n",
              "      <td>15-May-2011</td>\n",
              "      <td>2.58</td>\n",
              "      <td>Ramin Djawadi</td>\n",
              "      <td>Marco Pontecorvo</td>\n",
              "      <td>Frances Parker</td>\n",
              "      <td>9.0</td>\n",
              "      <td>95</td>\n",
              "      <td>9.0</td>\n",
              "      <td>March 2, 2010</td>\n",
              "      <td>Second half of 2010</td>\n",
              "      <td>A Game of Thrones</td>\n",
              "      <td>King Robert's eunuch spy, Varys, has uncovered...</td>\n",
              "    </tr>\n",
              "  </tbody>\n",
              "</table>\n",
              "</div>\n",
              "      <button class=\"colab-df-convert\" onclick=\"convertToInteractive('df-62853278-ee2c-48c0-9c89-ee54dc3d4af0')\"\n",
              "              title=\"Convert this dataframe to an interactive table.\"\n",
              "              style=\"display:none;\">\n",
              "        \n",
              "  <svg xmlns=\"http://www.w3.org/2000/svg\" height=\"24px\"viewBox=\"0 0 24 24\"\n",
              "       width=\"24px\">\n",
              "    <path d=\"M0 0h24v24H0V0z\" fill=\"none\"/>\n",
              "    <path d=\"M18.56 5.44l.94 2.06.94-2.06 2.06-.94-2.06-.94-.94-2.06-.94 2.06-2.06.94zm-11 1L8.5 8.5l.94-2.06 2.06-.94-2.06-.94L8.5 2.5l-.94 2.06-2.06.94zm10 10l.94 2.06.94-2.06 2.06-.94-2.06-.94-.94-2.06-.94 2.06-2.06.94z\"/><path d=\"M17.41 7.96l-1.37-1.37c-.4-.4-.92-.59-1.43-.59-.52 0-1.04.2-1.43.59L10.3 9.45l-7.72 7.72c-.78.78-.78 2.05 0 2.83L4 21.41c.39.39.9.59 1.41.59.51 0 1.02-.2 1.41-.59l7.78-7.78 2.81-2.81c.8-.78.8-2.07 0-2.86zM5.41 20L4 18.59l7.72-7.72 1.47 1.35L5.41 20z\"/>\n",
              "  </svg>\n",
              "      </button>\n",
              "      \n",
              "  <style>\n",
              "    .colab-df-container {\n",
              "      display:flex;\n",
              "      flex-wrap:wrap;\n",
              "      gap: 12px;\n",
              "    }\n",
              "\n",
              "    .colab-df-convert {\n",
              "      background-color: #E8F0FE;\n",
              "      border: none;\n",
              "      border-radius: 50%;\n",
              "      cursor: pointer;\n",
              "      display: none;\n",
              "      fill: #1967D2;\n",
              "      height: 32px;\n",
              "      padding: 0 0 0 0;\n",
              "      width: 32px;\n",
              "    }\n",
              "\n",
              "    .colab-df-convert:hover {\n",
              "      background-color: #E2EBFA;\n",
              "      box-shadow: 0px 1px 2px rgba(60, 64, 67, 0.3), 0px 1px 3px 1px rgba(60, 64, 67, 0.15);\n",
              "      fill: #174EA6;\n",
              "    }\n",
              "\n",
              "    [theme=dark] .colab-df-convert {\n",
              "      background-color: #3B4455;\n",
              "      fill: #D2E3FC;\n",
              "    }\n",
              "\n",
              "    [theme=dark] .colab-df-convert:hover {\n",
              "      background-color: #434B5C;\n",
              "      box-shadow: 0px 1px 3px 1px rgba(0, 0, 0, 0.15);\n",
              "      filter: drop-shadow(0px 1px 2px rgba(0, 0, 0, 0.3));\n",
              "      fill: #FFFFFF;\n",
              "    }\n",
              "  </style>\n",
              "\n",
              "      <script>\n",
              "        const buttonEl =\n",
              "          document.querySelector('#df-62853278-ee2c-48c0-9c89-ee54dc3d4af0 button.colab-df-convert');\n",
              "        buttonEl.style.display =\n",
              "          google.colab.kernel.accessAllowed ? 'block' : 'none';\n",
              "\n",
              "        async function convertToInteractive(key) {\n",
              "          const element = document.querySelector('#df-62853278-ee2c-48c0-9c89-ee54dc3d4af0');\n",
              "          const dataTable =\n",
              "            await google.colab.kernel.invokeFunction('convertToInteractive',\n",
              "                                                     [key], {});\n",
              "          if (!dataTable) return;\n",
              "\n",
              "          const docLinkHtml = 'Like what you see? Visit the ' +\n",
              "            '<a target=\"_blank\" href=https://colab.research.google.com/notebooks/data_table.ipynb>data table notebook</a>'\n",
              "            + ' to learn more about interactive tables.';\n",
              "          element.innerHTML = '';\n",
              "          dataTable['output_type'] = 'display_data';\n",
              "          await google.colab.output.renderOutput(dataTable, element);\n",
              "          const docLink = document.createElement('div');\n",
              "          docLink.innerHTML = docLinkHtml;\n",
              "          element.appendChild(docLink);\n",
              "        }\n",
              "      </script>\n",
              "    </div>\n",
              "  </div>\n",
              "  "
            ]
          },
          "metadata": {},
          "execution_count": 44
        }
      ],
      "source": [
        "url = 'https://raw.githubusercontent.com/albertolunia/projeto-got/main/main/datasets/Game_of_Thrones.csv'\n",
        "db = pd.read_csv(url)\n",
        "db.head()"
      ]
    },
    {
      "cell_type": "markdown",
      "metadata": {
        "id": "LGC6SkYZLNy0"
      },
      "source": [
        "### Sobre os Episodios\n"
      ]
    },
    {
      "cell_type": "code",
      "execution_count": 45,
      "metadata": {
        "id": "rtuRva3BLNy-",
        "outputId": "41c59ce9-b23d-4fc7-9527-6c3f3ce02e0b",
        "colab": {
          "base_uri": "https://localhost:8080/"
        }
      },
      "outputs": [
        {
          "output_type": "stream",
          "name": "stdout",
          "text": [
            "Visualizações:\n",
            "Quantidade de temporadas: 8\n",
            "Quantidade de episodios: 73\n",
            "Quantidade de horas necessarias para assistir todos os episodios: 69\n"
          ]
        }
      ],
      "source": [
        "print(\"Visualizações:\")\n",
        "\n",
        "seasons = db['Season'].iloc[-1]\n",
        "print(f\"Quantidade de temporadas: {seasons}\")\n",
        "\n",
        "episodios = db['No. of Episode (Overall)'].iloc[-1]\n",
        "print(f\"Quantidade de episodios: {episodios}\")\n",
        "\n",
        "tempo = (db['Running Time (Minutes)'].sum()/60)\n",
        "print(f\"Quantidade de horas necessarias para assistir todos os episodios: {tempo:.0f}\")"
      ]
    },
    {
      "cell_type": "markdown",
      "source": [
        "###Sobre as notas"
      ],
      "metadata": {
        "id": "A2Hd4g02JXXG"
      }
    },
    {
      "cell_type": "code",
      "source": [
        "print(\"Média de avaliações por episódio realizado\")\n",
        "media_IMDb = db[\"IMDb Rating\"].mean()\n",
        "print(f\"IMDb: {media_IMDb:.2f}\")\n",
        "\n",
        "media_tomato = (db[\"Rotten Tomatoes Rating (Percentage)\"].mean()/10)\n",
        "print(f\"Rotten Tomatoes: {media_tomato:.2f}\")\n",
        "\n",
        "media_metacritic = db[\"Metacritic Ratings\"].mean()\n",
        "print(f\"Metacritic: {media_metacritic:.2f}\")\n",
        "\n",
        "critica = [\"IMDb Rating\", \"Rotten Tomatoes\", \"Metacritic\"]\n",
        "n_critica = [media_IMDb, media_tomato, media_metacritic]"
      ],
      "metadata": {
        "colab": {
          "base_uri": "https://localhost:8080/"
        },
        "id": "d1HEi730JICZ",
        "outputId": "6222ba09-df07-4ace-f087-95ec8d1dbc59"
      },
      "execution_count": 51,
      "outputs": [
        {
          "output_type": "stream",
          "name": "stdout",
          "text": [
            "Média de avaliações por episódio realizado\n",
            "IMDb: 8.74\n",
            "Rotten Tomatoes: 9.20\n",
            "Metacritic: 7.82\n"
          ]
        }
      ]
    },
    {
      "cell_type": "code",
      "source": [
        "x = np.arange(len(n_critica))\n",
        "largura = 0.40"
      ],
      "metadata": {
        "id": "PIC37A9vQwhF"
      },
      "execution_count": 77,
      "outputs": []
    },
    {
      "cell_type": "code",
      "source": [
        "def autolabel(grupos):\n",
        "    for i in grupos:\n",
        "        h = i.get_height()\n",
        "        ax.annotate('{:.2f}'.format(h),\n",
        "                xy = (i.get_x()+i.get_width()/2,h),\n",
        "                xytext = (0,3),\n",
        "                textcoords = 'offset points',\n",
        "                ha = 'center')"
      ],
      "metadata": {
        "id": "2HuWUBwONvJZ"
      },
      "execution_count": 114,
      "outputs": []
    },
    {
      "cell_type": "code",
      "source": [
        "fig,ax = plt.subplots(figsize = (6,6))\n",
        "\n",
        "grafico = ax.bar(critica, n_critica, largura, color = 'black')\n",
        "\n",
        "ax.set_title('Media de Avaliações por sites')\n",
        "ax.set_ylabel('Notas')\n",
        "\n",
        "autolabel(grafico)\n",
        "\n",
        "plt.show()\n"
      ],
      "metadata": {
        "colab": {
          "base_uri": "https://localhost:8080/",
          "height": 390
        },
        "id": "UBGlEjTaQ-EO",
        "outputId": "281bdcab-8886-4b84-9534-885e217a7f88"
      },
      "execution_count": 115,
      "outputs": [
        {
          "output_type": "display_data",
          "data": {
            "text/plain": [
              "<Figure size 432x432 with 1 Axes>"
            ],
            "image/png": "[encoded data removed]"
          },
          "metadata": {
            "needs_background": "light"
          }
        }
      ]
    }
  ],
  "metadata": {
    "kernelspec": {
      "display_name": "Python 3.10.8 64-bit",
      "language": "python",
      "name": "python3"
    },
    "language_info": {
      "codemirror_mode": {
        "name": "ipython",
        "version": 3
      },
      "file_extension": ".py",
      "mimetype": "text/x-python",
      "name": "python",
      "nbconvert_exporter": "python",
      "pygments_lexer": "ipython3",
      "version": "3.10.8"
    },
    "orig_nbformat": 4,
    "vscode": {
      "interpreter": {
        "hash": "7600a12950a547366bb7a6732117e300ffd26224351912980486e1126c5d0f9a"
      }
    },
    "colab": {
      "provenance": []
    }
  },
  "nbformat": 4,
  "nbformat_minor": 0
}