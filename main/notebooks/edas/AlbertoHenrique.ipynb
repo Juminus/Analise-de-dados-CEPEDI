{
  "cells": [
    {
      "cell_type": "code",
      "execution_count": null,
      "metadata": {
        "id": "iJFoYs6TLNyj"
      },
      "outputs": [],
      "source": [
        "import pandas as pd\n",
        "import matplotlib.pyplot as plt\n",
        "import numpy as np\n"
      ]
    },
    {
      "cell_type": "code",
      "execution_count": null,
      "metadata": {
        "id": "Z_-2FV49LNyy",
        "colab": {
          "base_uri": "https://localhost:8080/",
          "height": 704
        },
        "outputId": "cfdc2d29-a0ca-46aa-877a-f99fe56c75f3"
      },
      "outputs": [
        {
          "output_type": "execute_result",
          "data": {
            "text/plain": [
              "   Season  No. of Episode (Season)  No. of Episode (Overall)  \\\n",
              "0       1                        1                         1   \n",
              "1       1                        2                         2   \n",
              "2       1                        3                         3   \n",
              "3       1                        4                         4   \n",
              "4       1                        5                         5   \n",
              "\n",
              "                    Title of the Episode  Running Time (Minutes)  \\\n",
              "0                       Winter Is Coming                      61   \n",
              "1                          The Kingsroad                      55   \n",
              "2                              Lord Snow                      57   \n",
              "3  Cripples, Bastards, and Broken Things                      55   \n",
              "4                  The Wolf and the Lion                      54   \n",
              "\n",
              "      Directed by                  Written by Original Air Date  \\\n",
              "0  Tim Van Patten  David Benioff, D. B. Weiss       17-Apr-2011   \n",
              "1  Tim Van Patten  David Benioff, D. B. Weiss       24-Apr-2011   \n",
              "2      Brian Kirk  David Benioff, D. B. Weiss        1-May-2011   \n",
              "3      Brian Kirk                Bryan Cogman        8-May-2011   \n",
              "4      Brian Kirk  David Benioff, D. B. Weiss       15-May-2011   \n",
              "\n",
              "   U.S. Viewers (Millions)       Music by Cinematography by  \\\n",
              "0                     2.22  Ramin Djawadi     Alik Sakharov   \n",
              "1                     2.20  Ramin Djawadi     Alik Sakharov   \n",
              "2                     2.44  Ramin Djawadi  Marco Pontecorvo   \n",
              "3                     2.45  Ramin Djawadi  Marco Pontecorvo   \n",
              "4                     2.58  Ramin Djawadi  Marco Pontecorvo   \n",
              "\n",
              "          Editing by  IMDb Rating  Rotten Tomatoes Rating (Percentage)  \\\n",
              "0  Oral Norrie Ottey          8.9                                  100   \n",
              "1  Oral Norrie Ottey          8.6                                  100   \n",
              "2     Frances Parker          8.5                                   81   \n",
              "3     Frances Parker          8.6                                  100   \n",
              "4     Frances Parker          9.0                                   95   \n",
              "\n",
              "   Metacritic Ratings        Ordered     Filming Duration   Novel(s) Adapted  \\\n",
              "0                 9.1  March 2, 2010  Second half of 2010  A Game of Thrones   \n",
              "1                 8.9  March 2, 2010  Second half of 2010  A Game of Thrones   \n",
              "2                 8.7  March 2, 2010  Second half of 2010  A Game of Thrones   \n",
              "3                 9.1  March 2, 2010  Second half of 2010  A Game of Thrones   \n",
              "4                 9.0  March 2, 2010  Second half of 2010  A Game of Thrones   \n",
              "\n",
              "                                            Synopsis  \n",
              "0  North of the Seven Kingdoms of Westeros, Night...  \n",
              "1  Ned, the new Hand of the King, travels to King...  \n",
              "2  Ned attends the King's Small Council and learn...  \n",
              "3  While returning to King's Landing, Tyrion stop...  \n",
              "4  King Robert's eunuch spy, Varys, has uncovered...  "
            ],
            "text/html": [
              "\n",
              "  <div id=\"df-87074cc6-c95a-4ea5-a6d7-e1ddce26cd34\">\n",
              "    <div class=\"colab-df-container\">\n",
              "      <div>\n",
              "<style scoped>\n",
              "    .dataframe tbody tr th:only-of-type {\n",
              "        vertical-align: middle;\n",
              "    }\n",
              "\n",
              "    .dataframe tbody tr th {\n",
              "        vertical-align: top;\n",
              "    }\n",
              "\n",
              "    .dataframe thead th {\n",
              "        text-align: right;\n",
              "    }\n",
              "</style>\n",
              "<table border=\"1\" class=\"dataframe\">\n",
              "  <thead>\n",
              "    <tr style=\"text-align: right;\">\n",
              "      <th></th>\n",
              "      <th>Season</th>\n",
              "      <th>No. of Episode (Season)</th>\n",
              "      <th>No. of Episode (Overall)</th>\n",
              "      <th>Title of the Episode</th>\n",
              "      <th>Running Time (Minutes)</th>\n",
              "      <th>Directed by</th>\n",
              "      <th>Written by</th>\n",
              "      <th>Original Air Date</th>\n",
              "      <th>U.S. Viewers (Millions)</th>\n",
              "      <th>Music by</th>\n",
              "      <th>Cinematography by</th>\n",
              "      <th>Editing by</th>\n",
              "      <th>IMDb Rating</th>\n",
              "      <th>Rotten Tomatoes Rating (Percentage)</th>\n",
              "      <th>Metacritic Ratings</th>\n",
              "      <th>Ordered</th>\n",
              "      <th>Filming Duration</th>\n",
              "      <th>Novel(s) Adapted</th>\n",
              "      <th>Synopsis</th>\n",
              "    </tr>\n",
              "  </thead>\n",
              "  <tbody>\n",
              "    <tr>\n",
              "      <th>0</th>\n",
              "      <td>1</td>\n",
              "      <td>1</td>\n",
              "      <td>1</td>\n",
              "      <td>Winter Is Coming</td>\n",
              "      <td>61</td>\n",
              "      <td>Tim Van Patten</td>\n",
              "      <td>David Benioff, D. B. Weiss</td>\n",
              "      <td>17-Apr-2011</td>\n",
              "      <td>2.22</td>\n",
              "      <td>Ramin Djawadi</td>\n",
              "      <td>Alik Sakharov</td>\n",
              "      <td>Oral Norrie Ottey</td>\n",
              "      <td>8.9</td>\n",
              "      <td>100</td>\n",
              "      <td>9.1</td>\n",
              "      <td>March 2, 2010</td>\n",
              "      <td>Second half of 2010</td>\n",
              "      <td>A Game of Thrones</td>\n",
              "      <td>North of the Seven Kingdoms of Westeros, Night...</td>\n",
              "    </tr>\n",
              "    <tr>\n",
              "      <th>1</th>\n",
              "      <td>1</td>\n",
              "      <td>2</td>\n",
              "      <td>2</td>\n",
              "      <td>The Kingsroad</td>\n",
              "      <td>55</td>\n",
              "      <td>Tim Van Patten</td>\n",
              "      <td>David Benioff, D. B. Weiss</td>\n",
              "      <td>24-Apr-2011</td>\n",
              "      <td>2.20</td>\n",
              "      <td>Ramin Djawadi</td>\n",
              "      <td>Alik Sakharov</td>\n",
              "      <td>Oral Norrie Ottey</td>\n",
              "      <td>8.6</td>\n",
              "      <td>100</td>\n",
              "      <td>8.9</td>\n",
              "      <td>March 2, 2010</td>\n",
              "      <td>Second half of 2010</td>\n",
              "      <td>A Game of Thrones</td>\n",
              "      <td>Ned, the new Hand of the King, travels to King...</td>\n",
              "    </tr>\n",
              "    <tr>\n",
              "      <th>2</th>\n",
              "      <td>1</td>\n",
              "      <td>3</td>\n",
              "      <td>3</td>\n",
              "      <td>Lord Snow</td>\n",
              "      <td>57</td>\n",
              "      <td>Brian Kirk</td>\n",
              "      <td>David Benioff, D. B. Weiss</td>\n",
              "      <td>1-May-2011</td>\n",
              "      <td>2.44</td>\n",
              "      <td>Ramin Djawadi</td>\n",
              "      <td>Marco Pontecorvo</td>\n",
              "      <td>Frances Parker</td>\n",
              "      <td>8.5</td>\n",
              "      <td>81</td>\n",
              "      <td>8.7</td>\n",
              "      <td>March 2, 2010</td>\n",
              "      <td>Second half of 2010</td>\n",
              "      <td>A Game of Thrones</td>\n",
              "      <td>Ned attends the King's Small Council and learn...</td>\n",
              "    </tr>\n",
              "    <tr>\n",
              "      <th>3</th>\n",
              "      <td>1</td>\n",
              "      <td>4</td>\n",
              "      <td>4</td>\n",
              "      <td>Cripples, Bastards, and Broken Things</td>\n",
              "      <td>55</td>\n",
              "      <td>Brian Kirk</td>\n",
              "      <td>Bryan Cogman</td>\n",
              "      <td>8-May-2011</td>\n",
              "      <td>2.45</td>\n",
              "      <td>Ramin Djawadi</td>\n",
              "      <td>Marco Pontecorvo</td>\n",
              "      <td>Frances Parker</td>\n",
              "      <td>8.6</td>\n",
              "      <td>100</td>\n",
              "      <td>9.1</td>\n",
              "      <td>March 2, 2010</td>\n",
              "      <td>Second half of 2010</td>\n",
              "      <td>A Game of Thrones</td>\n",
              "      <td>While returning to King's Landing, Tyrion stop...</td>\n",
              "    </tr>\n",
              "    <tr>\n",
              "      <th>4</th>\n",
              "      <td>1</td>\n",
              "      <td>5</td>\n",
              "      <td>5</td>\n",
              "      <td>The Wolf and the Lion</td>\n",
              "      <td>54</td>\n",
              "      <td>Brian Kirk</td>\n",
              "      <td>David Benioff, D. B. Weiss</td>\n",
              "      <td>15-May-2011</td>\n",
              "      <td>2.58</td>\n",
              "      <td>Ramin Djawadi</td>\n",
              "      <td>Marco Pontecorvo</td>\n",
              "      <td>Frances Parker</td>\n",
              "      <td>9.0</td>\n",
              "      <td>95</td>\n",
              "      <td>9.0</td>\n",
              "      <td>March 2, 2010</td>\n",
              "      <td>Second half of 2010</td>\n",
              "      <td>A Game of Thrones</td>\n",
              "      <td>King Robert's eunuch spy, Varys, has uncovered...</td>\n",
              "    </tr>\n",
              "  </tbody>\n",
              "</table>\n",
              "</div>\n",
              "      <button class=\"colab-df-convert\" onclick=\"convertToInteractive('df-87074cc6-c95a-4ea5-a6d7-e1ddce26cd34')\"\n",
              "              title=\"Convert this dataframe to an interactive table.\"\n",
              "              style=\"display:none;\">\n",
              "        \n",
              "  <svg xmlns=\"http://www.w3.org/2000/svg\" height=\"24px\"viewBox=\"0 0 24 24\"\n",
              "       width=\"24px\">\n",
              "    <path d=\"M0 0h24v24H0V0z\" fill=\"none\"/>\n",
              "    <path d=\"M18.56 5.44l.94 2.06.94-2.06 2.06-.94-2.06-.94-.94-2.06-.94 2.06-2.06.94zm-11 1L8.5 8.5l.94-2.06 2.06-.94-2.06-.94L8.5 2.5l-.94 2.06-2.06.94zm10 10l.94 2.06.94-2.06 2.06-.94-2.06-.94-.94-2.06-.94 2.06-2.06.94z\"/><path d=\"M17.41 7.96l-1.37-1.37c-.4-.4-.92-.59-1.43-.59-.52 0-1.04.2-1.43.59L10.3 9.45l-7.72 7.72c-.78.78-.78 2.05 0 2.83L4 21.41c.39.39.9.59 1.41.59.51 0 1.02-.2 1.41-.59l7.78-7.78 2.81-2.81c.8-.78.8-2.07 0-2.86zM5.41 20L4 18.59l7.72-7.72 1.47 1.35L5.41 20z\"/>\n",
              "  </svg>\n",
              "      </button>\n",
              "      \n",
              "  <style>\n",
              "    .colab-df-container {\n",
              "      display:flex;\n",
              "      flex-wrap:wrap;\n",
              "      gap: 12px;\n",
              "    }\n",
              "\n",
              "    .colab-df-convert {\n",
              "      background-color: #E8F0FE;\n",
              "      border: none;\n",
              "      border-radius: 50%;\n",
              "      cursor: pointer;\n",
              "      display: none;\n",
              "      fill: #1967D2;\n",
              "      height: 32px;\n",
              "      padding: 0 0 0 0;\n",
              "      width: 32px;\n",
              "    }\n",
              "\n",
              "    .colab-df-convert:hover {\n",
              "      background-color: #E2EBFA;\n",
              "      box-shadow: 0px 1px 2px rgba(60, 64, 67, 0.3), 0px 1px 3px 1px rgba(60, 64, 67, 0.15);\n",
              "      fill: #174EA6;\n",
              "    }\n",
              "\n",
              "    [theme=dark] .colab-df-convert {\n",
              "      background-color: #3B4455;\n",
              "      fill: #D2E3FC;\n",
              "    }\n",
              "\n",
              "    [theme=dark] .colab-df-convert:hover {\n",
              "      background-color: #434B5C;\n",
              "      box-shadow: 0px 1px 3px 1px rgba(0, 0, 0, 0.15);\n",
              "      filter: drop-shadow(0px 1px 2px rgba(0, 0, 0, 0.3));\n",
              "      fill: #FFFFFF;\n",
              "    }\n",
              "  </style>\n",
              "\n",
              "      <script>\n",
              "        const buttonEl =\n",
              "          document.querySelector('#df-87074cc6-c95a-4ea5-a6d7-e1ddce26cd34 button.colab-df-convert');\n",
              "        buttonEl.style.display =\n",
              "          google.colab.kernel.accessAllowed ? 'block' : 'none';\n",
              "\n",
              "        async function convertToInteractive(key) {\n",
              "          const element = document.querySelector('#df-87074cc6-c95a-4ea5-a6d7-e1ddce26cd34');\n",
              "          const dataTable =\n",
              "            await google.colab.kernel.invokeFunction('convertToInteractive',\n",
              "                                                     [key], {});\n",
              "          if (!dataTable) return;\n",
              "\n",
              "          const docLinkHtml = 'Like what you see? Visit the ' +\n",
              "            '<a target=\"_blank\" href=https://colab.research.google.com/notebooks/data_table.ipynb>data table notebook</a>'\n",
              "            + ' to learn more about interactive tables.';\n",
              "          element.innerHTML = '';\n",
              "          dataTable['output_type'] = 'display_data';\n",
              "          await google.colab.output.renderOutput(dataTable, element);\n",
              "          const docLink = document.createElement('div');\n",
              "          docLink.innerHTML = docLinkHtml;\n",
              "          element.appendChild(docLink);\n",
              "        }\n",
              "      </script>\n",
              "    </div>\n",
              "  </div>\n",
              "  "
            ]
          },
          "metadata": {},
          "execution_count": 291
        }
      ],
      "source": [
        "url = 'https://raw.githubusercontent.com/albertolunia/projeto-got/main/main/datasets/Game_of_Thrones.csv'\n",
        "db = pd.read_csv(url)\n",
        "db.head()"
      ]
    },
    {
      "cell_type": "markdown",
      "metadata": {
        "id": "LGC6SkYZLNy0"
      },
      "source": [
        "### Sobre os Episodios\n"
      ]
    },
    {
      "cell_type": "code",
      "execution_count": null,
      "metadata": {
        "id": "rtuRva3BLNy-",
        "outputId": "f18cb38b-1579-4c49-f138-983491dd025a",
        "colab": {
          "base_uri": "https://localhost:8080/"
        }
      },
      "outputs": [
        {
          "output_type": "stream",
          "name": "stdout",
          "text": [
            "Quantidade de temporadas: 8\n",
            "Quantidade de episodios: 73\n",
            "Quantidade de horas necessarias para assistir todos os episodios: 69\n"
          ]
        }
      ],
      "source": [
        "seasons = db['Season'].iloc[-1]\n",
        "print(f\"Quantidade de temporadas: {seasons}\")\n",
        "\n",
        "episodios = db['No. of Episode (Overall)'].iloc[-1]\n",
        "print(f\"Quantidade de episodios: {episodios}\")\n",
        "\n",
        "tempo = (db['Running Time (Minutes)'].sum()/60)\n",
        "print(f\"Quantidade de horas necessarias para assistir todos os episodios: {tempo:.0f}\")"
      ]
    },
    {
      "cell_type": "code",
      "source": [
        "print(\"Diretores por temporada:\\n\")\n",
        "diretores = db.groupby(\"Directed by\")[\"Season\"].unique()\n",
        "diretores"
      ],
      "metadata": {
        "colab": {
          "base_uri": "https://localhost:8080/"
        },
        "id": "tU3iC306cQix",
        "outputId": "fa43bd90-89a1-4910-9f1f-751ae30a031a"
      },
      "execution_count": null,
      "outputs": [
        {
          "output_type": "stream",
          "name": "stdout",
          "text": [
            "Diretores por temporada:\n",
            "\n"
          ]
        },
        {
          "output_type": "execute_result",
          "data": {
            "text/plain": [
              "Directed by\n",
              "Alan Taylor                       [1, 2, 7]\n",
              "Alex Graves                          [3, 4]\n",
              "Alik Sakharov                     [2, 3, 4]\n",
              "Brian Kirk                              [1]\n",
              "D. B. Weiss                             [4]\n",
              "Daniel Minahan                       [1, 3]\n",
              "Daniel Sackheim                         [6]\n",
              "David Benioff                           [3]\n",
              "David Benioff & D. B. Weiss             [8]\n",
              "David Nutter                   [2, 3, 5, 8]\n",
              "David Petrarca                          [2]\n",
              "Jack Bender                             [6]\n",
              "Jeremy Podeswa                    [5, 6, 7]\n",
              "Mark Mylod                        [5, 6, 7]\n",
              "Matt Shakman                            [7]\n",
              "Michael Slovis                          [5]\n",
              "Michelle MacLaren                    [3, 4]\n",
              "Miguel Sapochnik                  [5, 6, 8]\n",
              "Neil Marshall                        [2, 4]\n",
              "Tim Van Patten                          [1]\n",
              "Name: Season, dtype: object"
            ]
          },
          "metadata": {},
          "execution_count": 293
        }
      ]
    },
    {
      "cell_type": "code",
      "source": [
        "print(\"Episodios dirigidos:\\n\")\n",
        "diretores_eps = db.groupby(\"Directed by\")[\"No. of Episode (Overall)\"].unique()\n",
        "diretores_eps"
      ],
      "metadata": {
        "colab": {
          "base_uri": "https://localhost:8080/"
        },
        "id": "k1sYUKJ0eXTc",
        "outputId": "02ad5b0c-4b44-41ea-c4a7-e3f532cdb097"
      },
      "execution_count": null,
      "outputs": [
        {
          "output_type": "stream",
          "name": "stdout",
          "text": [
            "Episodios dirigidos:\n",
            "\n"
          ]
        },
        {
          "output_type": "execute_result",
          "data": {
            "text/plain": [
              "Directed by\n",
              "Alan Taylor                             [9, 10, 11, 12, 18, 20, 66]\n",
              "Alex Graves                                [24, 25, 32, 33, 38, 40]\n",
              "Alik Sakharov                                      [13, 26, 36, 37]\n",
              "Brian Kirk                                                [3, 4, 5]\n",
              "D. B. Weiss                                                    [31]\n",
              "Daniel Minahan                                    [6, 7, 8, 21, 22]\n",
              "Daniel Sackheim                                            [53, 54]\n",
              "David Benioff                                                  [23]\n",
              "David Benioff & D. B. Weiss                                    [73]\n",
              "David Nutter                   [16, 17, 29, 30, 49, 50, 68, 69, 71]\n",
              "David Petrarca                                             [14, 15]\n",
              "Jack Bender                                                [55, 56]\n",
              "Jeremy Podeswa                             [45, 46, 51, 52, 61, 67]\n",
              "Mark Mylod                                 [43, 44, 57, 58, 62, 63]\n",
              "Matt Shakman                                               [64, 65]\n",
              "Michael Slovis                                             [41, 42]\n",
              "Michelle MacLaren                                  [27, 28, 34, 35]\n",
              "Miguel Sapochnik                           [47, 48, 59, 60, 70, 72]\n",
              "Neil Marshall                                              [19, 39]\n",
              "Tim Van Patten                                               [1, 2]\n",
              "Name: No. of Episode (Overall), dtype: object"
            ]
          },
          "metadata": {},
          "execution_count": 294
        }
      ]
    },
    {
      "cell_type": "code",
      "source": [],
      "metadata": {
        "id": "ILmNLzK_uTof"
      },
      "execution_count": null,
      "outputs": []
    },
    {
      "cell_type": "code",
      "source": [
        "print(\"Escritores por temporada:\\n\")\n",
        "escritores = db.groupby(\"Written by\")[\"Season\"].unique()\n",
        "escritores"
      ],
      "metadata": {
        "colab": {
          "base_uri": "https://localhost:8080/"
        },
        "id": "3w-DDuXYdZmQ",
        "outputId": "84c05f37-66da-4c9d-e020-d2fd89640ed6"
      },
      "execution_count": null,
      "outputs": [
        {
          "output_type": "stream",
          "name": "stdout",
          "text": [
            "Escritores por temporada:\n",
            "\n"
          ]
        },
        {
          "output_type": "execute_result",
          "data": {
            "text/plain": [
              "Written by\n",
              "Bryan Cogman                                 [1, 2, 3, 4, 5, 6, 7, 8]\n",
              "Dave Hill                                                [5, 6, 7, 8]\n",
              "David Benioff, D. B. Weiss                   [1, 2, 3, 4, 5, 6, 7, 8]\n",
              "George R. R. Martin                                      [1, 2, 3, 4]\n",
              "Jane Espenson, David Benioff, D. B. Weiss                         [1]\n",
              "Vanessa Taylor                                                 [2, 3]\n",
              "Name: Season, dtype: object"
            ]
          },
          "metadata": {},
          "execution_count": 295
        }
      ]
    },
    {
      "cell_type": "code",
      "source": [
        "print(\"Episodios Escritos:\\n\")\n",
        "escritores_ep = db.groupby(\"Written by\")[\"No. of Episode (Overall)\"].unique()\n",
        "escritores_ep"
      ],
      "metadata": {
        "colab": {
          "base_uri": "https://localhost:8080/"
        },
        "id": "WV_hs6M5gtJk",
        "outputId": "e20aa98a-ee99-4ae6-854b-0d2d00396db8"
      },
      "execution_count": null,
      "outputs": [
        {
          "output_type": "stream",
          "name": "stdout",
          "text": [
            "Episodios Escritos:\n",
            "\n"
          ]
        },
        {
          "output_type": "execute_result",
          "data": {
            "text/plain": [
              "Written by\n",
              "Bryan Cogman                                       [4, 13, 25, 34, 36, 45, 46, 56, 57, 62, 69]\n",
              "Dave Hill                                                                     [44, 52, 65, 68]\n",
              "David Benioff, D. B. Weiss                   [1, 2, 3, 5, 7, 9, 10, 11, 12, 15, 17, 18, 20,...\n",
              "George R. R. Martin                                                            [8, 19, 27, 32]\n",
              "Jane Espenson, David Benioff, D. B. Weiss                                                  [6]\n",
              "Vanessa Taylor                                                                    [14, 16, 22]\n",
              "Name: No. of Episode (Overall), dtype: object"
            ]
          },
          "metadata": {},
          "execution_count": 296
        }
      ]
    },
    {
      "cell_type": "markdown",
      "source": [
        "###Sobre as notas"
      ],
      "metadata": {
        "id": "A2Hd4g02JXXG"
      }
    },
    {
      "cell_type": "code",
      "source": [
        "print(\"Média de avaliações por episódio realizado\")\n",
        "media_IMDb = db[\"IMDb Rating\"].mean()\n",
        "print(f\"IMDb: {media_IMDb:.2f}\")\n",
        "\n",
        "media_tomato = (db[\"Rotten Tomatoes Rating (Percentage)\"].mean()/10)\n",
        "print(f\"Rotten Tomatoes: {media_tomato:.2f}\")\n",
        "\n",
        "media_metacritic = db[\"Metacritic Ratings\"].mean()\n",
        "print(f\"Metacritic: {media_metacritic:.2f}\")\n",
        "\n",
        "critica = [\"IMDb Rating\", \"Rotten Tomatoes\", \"Metacritic\"]\n",
        "n_critica = [media_IMDb, media_tomato, media_metacritic]"
      ],
      "metadata": {
        "colab": {
          "base_uri": "https://localhost:8080/"
        },
        "id": "d1HEi730JICZ",
        "outputId": "436aa7fa-c8af-488f-c250-aeaccd693a56"
      },
      "execution_count": null,
      "outputs": [
        {
          "output_type": "stream",
          "name": "stdout",
          "text": [
            "Média de avaliações por episódio realizado\n",
            "IMDb: 8.74\n",
            "Rotten Tomatoes: 9.20\n",
            "Metacritic: 7.82\n"
          ]
        }
      ]
    },
    {
      "cell_type": "code",
      "source": [
        "x = np.arange(len(n_critica))\n",
        "largura = 0.40"
      ],
      "metadata": {
        "id": "PIC37A9vQwhF"
      },
      "execution_count": null,
      "outputs": []
    },
    {
      "cell_type": "code",
      "source": [
        "def autolabel(grupos):\n",
        "    for i in grupos:\n",
        "        h = i.get_height()\n",
        "        ax.annotate('{:.2f}'.format(h),\n",
        "                xy = (i.get_x()+i.get_width()/2,h),\n",
        "                xytext = (0,3),\n",
        "                textcoords = 'offset points',\n",
        "                ha = 'center')"
      ],
      "metadata": {
        "id": "2HuWUBwONvJZ"
      },
      "execution_count": null,
      "outputs": []
    },
    {
      "cell_type": "code",
      "source": [
        "fig,ax = plt.subplots(figsize = (6,6))\n",
        "\n",
        "grafico = ax.bar(critica, n_critica, largura, color = 'aqua')\n",
        "\n",
        "ax.set_title('Media de Avaliações por sites')\n",
        "ax.set_ylabel('Notas')\n",
        "\n",
        "autolabel(grafico)\n",
        "\n",
        "plt.savefig(\"Grafico 1\")\n",
        "plt.show()"
      ],
      "metadata": {
        "colab": {
          "base_uri": "https://localhost:8080/",
          "height": 390
        },
        "id": "UBGlEjTaQ-EO",
        "outputId": "df080da4-8c0d-4efc-b00a-fdcd33efa25c"
      },
      "execution_count": null,
      "outputs": [
        {
          "output_type": "display_data",
          "data": {
            "text/plain": [
              "<Figure size 432x432 with 1 Axes>"
            ],
            "image/png": "[encoded data removed]"
          },
          "metadata": {
            "needs_background": "light"
          }
        }
      ]
    },
    {
      "cell_type": "code",
      "source": [
        "seasons = db[\"Season\"].unique()"
      ],
      "metadata": {
        "id": "o2BoVkUhbP4h"
      },
      "execution_count": null,
      "outputs": []
    },
    {
      "cell_type": "code",
      "source": [
        "notas_imbd = db.groupby(\"Season\")[\"IMDb Rating\"].mean()"
      ],
      "metadata": {
        "id": "rgdwEemcXBrx"
      },
      "execution_count": null,
      "outputs": []
    },
    {
      "cell_type": "code",
      "source": [
        "fig,ax = plt.subplots(figsize = (6,6))\n",
        "\n",
        "grafico = ax.bar(seasons, notas_imbd, largura, color = 'black')\n",
        "\n",
        "ax.set_title('Media de Avaliações Do IMBD por Temporada')\n",
        "ax.set_ylabel('Notas')\n",
        "ax.set_xlabel('Temporadas')\n",
        "\n",
        "autolabel(grafico)\n",
        "\n",
        "plt.savefig(\"Grafico 2\")\n",
        "plt.show()"
      ],
      "metadata": {
        "colab": {
          "base_uri": "https://localhost:8080/",
          "height": 404
        },
        "id": "oP4XVmQwagbW",
        "outputId": "bffa5d26-3788-402b-a43f-3545e9ab133a"
      },
      "execution_count": null,
      "outputs": [
        {
          "output_type": "display_data",
          "data": {
            "text/plain": [
              "<Figure size 432x432 with 1 Axes>"
            ],
            "image/png": "[encoded data removed]"
          },
          "metadata": {
            "needs_background": "light"
          }
        }
      ]
    },
    {
      "cell_type": "code",
      "source": [
        "notas_rotten = db.groupby(\"Season\")[\"Rotten Tomatoes Rating (Percentage)\"].mean()/10"
      ],
      "metadata": {
        "id": "JdQQDVjIbS8_"
      },
      "execution_count": null,
      "outputs": []
    },
    {
      "cell_type": "code",
      "source": [
        "fig,ax = plt.subplots(figsize = (6,6))\n",
        "\n",
        "grafico = ax.bar(seasons, notas_rotten, largura, color = 'tomato')\n",
        "\n",
        "ax.set_title('Media de Avaliações Do Rotten Tomatoes por Temporada')\n",
        "ax.set_ylabel('Notas')\n",
        "ax.set_xlabel('Temporadas')\n",
        "\n",
        "autolabel(grafico)\n",
        "\n",
        "plt.savefig(\"Grafico 3\")\n",
        "plt.show()"
      ],
      "metadata": {
        "colab": {
          "base_uri": "https://localhost:8080/",
          "height": 404
        },
        "id": "u4C90CdTbe9M",
        "outputId": "6b46e08a-443a-4ac9-86a0-ff89f5f07c21"
      },
      "execution_count": null,
      "outputs": [
        {
          "output_type": "display_data",
          "data": {
            "text/plain": [
              "<Figure size 432x432 with 1 Axes>"
            ],
            "image/png": "[encoded data removed]"
          },
          "metadata": {
            "needs_background": "light"
          }
        }
      ]
    },
    {
      "cell_type": "code",
      "source": [
        "notas_meta = db.groupby(\"Season\")[\"Metacritic Ratings\"].mean()"
      ],
      "metadata": {
        "id": "g52i2R16bvhs"
      },
      "execution_count": null,
      "outputs": []
    },
    {
      "cell_type": "code",
      "source": [
        "fig,ax = plt.subplots(figsize = (6,6))\n",
        "\n",
        "grafico = ax.bar(seasons, notas_meta, largura, color = 'yellow')\n",
        "\n",
        "ax.set_title('Media de Avaliações Do Metacritic Ratings por Temporada')\n",
        "ax.set_ylabel('Notas')\n",
        "ax.set_xlabel('Temporadas')\n",
        "\n",
        "autolabel(grafico)\n",
        "\n",
        "plt.savefig(\"Grafico 4\")\n",
        "plt.show()"
      ],
      "metadata": {
        "colab": {
          "base_uri": "https://localhost:8080/",
          "height": 404
        },
        "id": "7ZqVoKhRbvye",
        "outputId": "febf960f-e8a8-4e35-b183-69bb8153ef01"
      },
      "execution_count": null,
      "outputs": [
        {
          "output_type": "display_data",
          "data": {
            "text/plain": [
              "<Figure size 432x432 with 1 Axes>"
            ],
            "image/png": "[encoded data removed]"
          },
          "metadata": {
            "needs_background": "light"
          }
        }
      ]
    },
    {
      "cell_type": "code",
      "source": [
        "audiencia_diretor = db[\"Directed by\"].unique()"
      ],
      "metadata": {
        "id": "8X5wb_uzv5Id"
      },
      "execution_count": null,
      "outputs": []
    },
    {
      "cell_type": "code",
      "source": [
        "db[\"Rotten Tomatoes Rating (Percentage)\"] = db[\"Rotten Tomatoes Rating (Percentage)\"].apply(lambda x: x/10)"
      ],
      "metadata": {
        "id": "vmvn03Qz_bVw"
      },
      "execution_count": 320,
      "outputs": []
    },
    {
      "cell_type": "code",
      "source": [
        "notas_diretor = db.groupby(\"Directed by\")[[\"IMDb Rating\", \"Rotten Tomatoes Rating (Percentage)\", \"Metacritic Ratings\"]].mean()\n",
        "notas_diretor = notas_diretor.sum(axis=1)/3"
      ],
      "metadata": {
        "id": "4AuL5g41xLe-"
      },
      "execution_count": 321,
      "outputs": []
    },
    {
      "cell_type": "code",
      "source": [
        "fig,ax = plt.subplots(figsize = (15,6))\n",
        "\n",
        "grafico = ax.bar(audiencia_diretor, notas_diretor, largura, color = 'lightgreen')\n",
        "\n",
        "ax.set_title('Media das notas dos diretores pelos 3 sites da critica (IMBD, Rotten, Metacritc)')\n",
        "ax.set_ylabel('Notas')\n",
        "\n",
        "plt.xticks(rotation=45)\n",
        "\n",
        "autolabel(grafico)\n",
        "\n",
        "plt.savefig(\"Grafico 5\")\n",
        "plt.show()"
      ],
      "metadata": {
        "colab": {
          "base_uri": "https://localhost:8080/",
          "height": 485
        },
        "id": "39A6oKxPwLXz",
        "outputId": "1a3fe7d2-0c43-4946-a042-d1b619a4c3a9"
      },
      "execution_count": 322,
      "outputs": [
        {
          "output_type": "display_data",
          "data": {
            "text/plain": [
              "<Figure size 1080x432 with 1 Axes>"
            ],
            "image/png": "[encoded data removed]"
          },
          "metadata": {
            "needs_background": "light"
          }
        }
      ]
    },
    {
      "cell_type": "markdown",
      "source": [
        "##Audiencia"
      ],
      "metadata": {
        "id": "AxyZRD8hUqcd"
      }
    },
    {
      "cell_type": "code",
      "source": [
        "audiencia = db.groupby(\"Season\")[\"U.S. Viewers (Millions)\"].mean()"
      ],
      "metadata": {
        "id": "MRqjk625vo9g"
      },
      "execution_count": null,
      "outputs": []
    },
    {
      "cell_type": "code",
      "source": [
        "fig,ax = plt.subplots(figsize = (6,6))\n",
        "\n",
        "grafico = ax.bar(seasons, audiencia, largura, color = 'lightblue')\n",
        "\n",
        "ax.set_title('Media visualização por season (Em milhões)')\n",
        "ax.set_ylabel('Visualizações')\n",
        "ax.set_xlabel('Temporadas')\n",
        "\n",
        "autolabel(grafico)\n",
        "\n",
        "plt.savefig(\"Grafico 6\")\n",
        "plt.show()"
      ],
      "metadata": {
        "colab": {
          "base_uri": "https://localhost:8080/",
          "height": 404
        },
        "id": "3JcAjUQcUtLu",
        "outputId": "d4f97ed5-53c6-4dbb-8e8e-e2b3c65505ae"
      },
      "execution_count": null,
      "outputs": [
        {
          "output_type": "display_data",
          "data": {
            "text/plain": [
              "<Figure size 432x432 with 1 Axes>"
            ],
            "image/png": "[encoded data removed]"
          },
          "metadata": {
            "needs_background": "light"
          }
        }
      ]
    },
    {
      "cell_type": "code",
      "source": [
        "n_ep = db['No. of Episode (Overall)'].unique()\n",
        "viewers = db.groupby(\"No. of Episode (Overall)\")[\"U.S. Viewers (Millions)\"].mean()"
      ],
      "metadata": {
        "id": "uY5tEyDd4tNg"
      },
      "execution_count": null,
      "outputs": []
    },
    {
      "cell_type": "code",
      "source": [
        "def cor_do_ponto(valor: float) -> str:\n",
        "    if valor < 10:\n",
        "        return \"black\"\n",
        "    elif valor < 20:\n",
        "        return \"green\"\n",
        "    elif valor < 30:\n",
        "        return \"yellow\"\n",
        "    elif valor < 40:\n",
        "        return \"tomato\"\n",
        "    elif valor < 50:\n",
        "        return \"blue\"\n",
        "    elif valor < 67:\n",
        "        return \"purple\"\n",
        "    else:\n",
        "        return \"aqua\"\n",
        "\n",
        "db['Color'] = db['No. of Episode (Overall)'].apply(cor_do_ponto)"
      ],
      "metadata": {
        "id": "CFS6qvxf6XyU"
      },
      "execution_count": null,
      "outputs": []
    },
    {
      "cell_type": "code",
      "source": [
        "fig,ax = plt.subplots(figsize = (6,6))\n",
        "\n",
        "grafico = ax.scatter(n_ep, viewers, 20 , color = db['Color'])\n",
        "\n",
        "ax.set_title('Media visualização por season (Em milhões)')\n",
        "ax.set_ylabel('Visualizações')\n",
        "ax.set_xlabel('Episodios')\n",
        "\n",
        "plt.savefig(\"Grafico 7\")\n",
        "plt.show()"
      ],
      "metadata": {
        "colab": {
          "base_uri": "https://localhost:8080/",
          "height": 404
        },
        "id": "Bd3uGTKw2ANL",
        "outputId": "ed5d1c40-87ed-4be2-c2a9-3cde2513fb25"
      },
      "execution_count": null,
      "outputs": [
        {
          "output_type": "display_data",
          "data": {
            "text/plain": [
              "<Figure size 432x432 with 1 Axes>"
            ],
            "image/png": "[encoded data removed]"
          },
          "metadata": {
            "needs_background": "light"
          }
        }
      ]
    }
  ],
  "metadata": {
    "kernelspec": {
      "display_name": "Python 3.10.8 64-bit",
      "language": "python",
      "name": "python3"
    },
    "language_info": {
      "codemirror_mode": {
        "name": "ipython",
        "version": 3
      },
      "file_extension": ".py",
      "mimetype": "text/x-python",
      "name": "python",
      "nbconvert_exporter": "python",
      "pygments_lexer": "ipython3",
      "version": "3.10.8"
    },
    "orig_nbformat": 4,
    "vscode": {
      "interpreter": {
        "hash": "7600a12950a547366bb7a6732117e300ffd26224351912980486e1126c5d0f9a"
      }
    },
    "colab": {
      "provenance": []
    }
  },
  "nbformat": 4,
  "nbformat_minor": 0
}